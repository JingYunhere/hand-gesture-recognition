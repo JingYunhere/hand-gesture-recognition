{
 "cells": [
  {
   "cell_type": "code",
   "execution_count": 2,
   "metadata": {
    "id": "igMyGnjE9hEp"
   },
   "outputs": [],
   "source": [
    "import csv\n",
    "\n",
    "import numpy as np\n",
    "import tensorflow as tf\n",
    "from sklearn.model_selection import train_test_split\n",
    "\n",
    "\n",
    "\n",
    "RANDOM_SEED = 42"
   ]
  },
  {
   "attachments": {},
   "cell_type": "markdown",
   "metadata": {
    "id": "t2HDvhIu9hEr"
   },
   "source": [
    "# Specify each path"
   ]
  },
  {
   "cell_type": "code",
   "execution_count": 3,
   "metadata": {
    "id": "9NvZP2Zn9hEy"
   },
   "outputs": [],
   "source": [
    "dataset = 'model/keypoint_classifier/keypoint.csv'\n",
    "model_save_path = 'model/keypoint_classifier/keypoint_classifier.hdf5'\n",
    "tflite_save_path = 'model/keypoint_classifier/keypoint_classifier.tflite'"
   ]
  },
  {
   "attachments": {},
   "cell_type": "markdown",
   "metadata": {
    "id": "s5oMH7x19hEz"
   },
   "source": [
    "# Set number of classes"
   ]
  },
  {
   "cell_type": "code",
   "execution_count": 4,
   "metadata": {
    "id": "du4kodXL9hEz"
   },
   "outputs": [],
   "source": [
    "#在模型设置中的输出层用到\n",
    "NUM_CLASSES = 4"
   ]
  },
  {
   "attachments": {},
   "cell_type": "markdown",
   "metadata": {
    "id": "XjnL0uso9hEz"
   },
   "source": [
    "# Dataset reading"
   ]
  },
  {
   "cell_type": "code",
   "execution_count": 5,
   "metadata": {
    "id": "QT5ZqtEz9hE0"
   },
   "outputs": [],
   "source": [
    "#二维数组，每一行表示一个样本（一个手势的21个点坐标集合），每一列表示一个关键点的坐标。\n",
    "X_dataset = np.loadtxt(dataset, delimiter=',', dtype='float32', usecols=list(range(1, (21 * 2) + 1)))"
   ]
  },
  {
   "cell_type": "code",
   "execution_count": 6,
   "metadata": {
    "id": "QmoKFsp49hE0"
   },
   "outputs": [],
   "source": [
    "#只读取数据集的第一列，即标签列。\n",
    "y_dataset = np.loadtxt(dataset, delimiter=',', dtype='int32', usecols=(0))"
   ]
  },
  {
   "cell_type": "code",
   "execution_count": 7,
   "metadata": {
    "id": "xQU7JTZ_9hE0"
   },
   "outputs": [],
   "source": [
    "#训练集占总数据集的75%，测试集占25%\n",
    "X_train, X_test, y_train, y_test = train_test_split(X_dataset, y_dataset, train_size=0.75, random_state=RANDOM_SEED)"
   ]
  },
  {
   "attachments": {},
   "cell_type": "markdown",
   "metadata": {
    "id": "mxK_lETT9hE0"
   },
   "source": [
    "# Model building"
   ]
  },
  {
   "cell_type": "code",
   "execution_count": 8,
   "metadata": {
    "id": "vHBmUf1t9hE1"
   },
   "outputs": [],
   "source": [
    "#定义了一个Keras的Sequential模型\n",
    "model = tf.keras.models.Sequential([\n",
    "    tf.keras.layers.Input((21 * 2, )),  #定义输入数据的形状\n",
    "    tf.keras.layers.Dropout(0.2),   #防止过拟合的层，以0.2的概率随机丢弃一些神经元。\n",
    "    tf.keras.layers.Dense(20, activation='relu'),   #全连接层，包含20个神经元，使用ReLU激活函数。\n",
    "    tf.keras.layers.Dropout(0.4),   #防止过拟合的层,以0.4的概率随机丢弃一些神经元。\n",
    "    tf.keras.layers.Dense(10, activation='relu'),   #全连接层，包含10个神经元，使用ReLU激活函数\n",
    "    tf.keras.layers.Dense(NUM_CLASSES, activation='softmax')    #最后的输出层，包含了4个神经元，使用softmax激活函数，将输出结果转化为概率值。\n",
    "])"
   ]
  },
  {
   "cell_type": "code",
   "execution_count": 9,
   "metadata": {
    "colab": {
     "base_uri": "https://localhost:8080/"
    },
    "id": "ypqky9tc9hE1",
    "outputId": "5db082bb-30e3-4110-bf63-a1ee777ecd46"
   },
   "outputs": [
    {
     "name": "stdout",
     "output_type": "stream",
     "text": [
      "Model: \"sequential\"\n",
      "_________________________________________________________________\n",
      " Layer (type)                Output Shape              Param #   \n",
      "=================================================================\n",
      " dropout (Dropout)           (None, 42)                0         \n",
      "                                                                 \n",
      " dense (Dense)               (None, 20)                860       \n",
      "                                                                 \n",
      " dropout_1 (Dropout)         (None, 20)                0         \n",
      "                                                                 \n",
      " dense_1 (Dense)             (None, 10)                210       \n",
      "                                                                 \n",
      " dense_2 (Dense)             (None, 4)                 44        \n",
      "                                                                 \n",
      "=================================================================\n",
      "Total params: 1,114\n",
      "Trainable params: 1,114\n",
      "Non-trainable params: 0\n",
      "_________________________________________________________________\n"
     ]
    },
    {
     "data": {
      "image/png": "[encoded data removed]",
      "text/plain": [
       "<IPython.core.display.Image object>"
      ]
     },
     "execution_count": 9,
     "metadata": {},
     "output_type": "execute_result"
    }
   ],
   "source": [
    "model.summary()  \n",
    "tf.keras.utils.plot_model(model, show_shapes=True)"
   ]
  },
  {
   "cell_type": "code",
   "execution_count": 10,
   "metadata": {
    "id": "MbMjOflQ9hE1"
   },
   "outputs": [],
   "source": [
    "# 在每个epoch结束时保存模型的权重和架构\n",
    "cp_callback = tf.keras.callbacks.ModelCheckpoint(\n",
    "    model_save_path, verbose=1, save_weights_only=False)\n",
    "# 监测验证集上的性能，并在连续20个epoch性能没有提升时停止训练，以避免过拟合和浪费计算资源。\n",
    "es_callback = tf.keras.callbacks.EarlyStopping(patience=20, verbose=1)"
   ]
  },
  {
   "cell_type": "code",
   "execution_count": 11,
   "metadata": {
    "id": "c3Dac0M_9hE2"
   },
   "outputs": [],
   "source": [
    "# 模型编译\n",
    "model.compile(\n",
    "    optimizer='adam',   #优化器（optimizer）：用于优化模型参数以最小化损失函数。选择Adam优化器。\n",
    "    loss='sparse_categorical_crossentropy', #损失函数（loss）：用于评估模型在训练期间的性能。选择稀疏分类交叉熵损失函数（sparse_categorical_crossentropy）。\n",
    "    metrics=['accuracy']    #用于评估模型性能的指标。选择准确度（accuracy）作为指标。\n",
    ")"
   ]
  },
  {
   "attachments": {},
   "cell_type": "markdown",
   "metadata": {
    "id": "7XI0j1Iu9hE2"
   },
   "source": [
    "# Model training"
   ]
  },
  {
   "cell_type": "code",
   "execution_count": 12,
   "metadata": {
    "colab": {
     "base_uri": "https://localhost:8080/"
    },
    "id": "WirBl-JE9hE3",
    "outputId": "71b30ca2-8294-4d9d-8aa2-800d90d399de",
    "scrolled": true
   },
   "outputs": [
    {
     "name": "stdout",
     "output_type": "stream",
     "text": [
      "Epoch 1/1000\n",
      "23/29 [======================>.......] - ETA: 0s - loss: 1.4487 - accuracy: 0.2714\n",
      "Epoch 1: saving model to model/keypoint_classifier\\keypoint_classifier.hdf5\n",
      "29/29 [==============================] - 2s 15ms/step - loss: 1.4401 - accuracy: 0.2724 - val_loss: 1.3368 - val_accuracy: 0.3150\n",
      "Epoch 2/1000\n",
      "23/29 [======================>.......] - ETA: 0s - loss: 1.3533 - accuracy: 0.2972\n",
      "Epoch 2: saving model to model/keypoint_classifier\\keypoint_classifier.hdf5\n",
      "29/29 [==============================] - 0s 8ms/step - loss: 1.3486 - accuracy: 0.2997 - val_loss: 1.2898 - val_accuracy: 0.3926\n",
      "Epoch 3/1000\n",
      "21/29 [====================>.........] - ETA: 0s - loss: 1.3003 - accuracy: 0.3281\n",
      "Epoch 3: saving model to model/keypoint_classifier\\keypoint_classifier.hdf5\n",
      "29/29 [==============================] - 0s 8ms/step - loss: 1.2939 - accuracy: 0.3362 - val_loss: 1.2383 - val_accuracy: 0.4511\n",
      "Epoch 4/1000\n",
      "26/29 [=========================>....] - ETA: 0s - loss: 1.2447 - accuracy: 0.3585\n",
      "Epoch 4: saving model to model/keypoint_classifier\\keypoint_classifier.hdf5\n",
      "29/29 [==============================] - 0s 7ms/step - loss: 1.2437 - accuracy: 0.3577 - val_loss: 1.1843 - val_accuracy: 0.4762\n",
      "Epoch 5/1000\n",
      "23/29 [======================>.......] - ETA: 0s - loss: 1.2075 - accuracy: 0.3957\n",
      "Epoch 5: saving model to model/keypoint_classifier\\keypoint_classifier.hdf5\n",
      "29/29 [==============================] - 0s 8ms/step - loss: 1.1988 - accuracy: 0.4045 - val_loss: 1.1150 - val_accuracy: 0.5180\n",
      "Epoch 6/1000\n",
      "21/29 [====================>.........] - ETA: 0s - loss: 1.1487 - accuracy: 0.4472\n",
      "Epoch 6: saving model to model/keypoint_classifier\\keypoint_classifier.hdf5\n",
      "29/29 [==============================] - 0s 8ms/step - loss: 1.1416 - accuracy: 0.4479 - val_loss: 1.0429 - val_accuracy: 0.5606\n",
      "Epoch 7/1000\n",
      "23/29 [======================>.......] - ETA: 0s - loss: 1.0932 - accuracy: 0.4854\n",
      "Epoch 7: saving model to model/keypoint_classifier\\keypoint_classifier.hdf5\n",
      "29/29 [==============================] - 0s 7ms/step - loss: 1.0926 - accuracy: 0.4883 - val_loss: 0.9774 - val_accuracy: 0.5714\n",
      "Epoch 8/1000\n",
      "24/29 [=======================>......] - ETA: 0s - loss: 1.0586 - accuracy: 0.4821\n",
      "Epoch 8: saving model to model/keypoint_classifier\\keypoint_classifier.hdf5\n",
      "29/29 [==============================] - 0s 8ms/step - loss: 1.0524 - accuracy: 0.4900 - val_loss: 0.9311 - val_accuracy: 0.5815\n",
      "Epoch 9/1000\n",
      "24/29 [=======================>......] - ETA: 0s - loss: 1.0241 - accuracy: 0.5055\n",
      "Epoch 9: saving model to model/keypoint_classifier\\keypoint_classifier.hdf5\n",
      "29/29 [==============================] - 0s 8ms/step - loss: 1.0238 - accuracy: 0.5070 - val_loss: 0.8777 - val_accuracy: 0.6525\n",
      "Epoch 10/1000\n",
      "25/29 [========================>.....] - ETA: 0s - loss: 1.0102 - accuracy: 0.5138\n",
      "Epoch 10: saving model to model/keypoint_classifier\\keypoint_classifier.hdf5\n",
      "29/29 [==============================] - 0s 7ms/step - loss: 1.0083 - accuracy: 0.5153 - val_loss: 0.8408 - val_accuracy: 0.6867\n",
      "Epoch 11/1000\n",
      "22/29 [=====================>........] - ETA: 0s - loss: 0.9776 - accuracy: 0.5291\n",
      "Epoch 11: saving model to model/keypoint_classifier\\keypoint_classifier.hdf5\n",
      "29/29 [==============================] - 0s 8ms/step - loss: 0.9747 - accuracy: 0.5340 - val_loss: 0.8198 - val_accuracy: 0.6842\n",
      "Epoch 12/1000\n",
      "23/29 [======================>.......] - ETA: 0s - loss: 0.9509 - accuracy: 0.5516\n",
      "Epoch 12: saving model to model/keypoint_classifier\\keypoint_classifier.hdf5\n",
      "29/29 [==============================] - 0s 8ms/step - loss: 0.9538 - accuracy: 0.5435 - val_loss: 0.7861 - val_accuracy: 0.7293\n",
      "Epoch 13/1000\n",
      "17/29 [================>.............] - ETA: 0s - loss: 0.9299 - accuracy: 0.5790\n",
      "Epoch 13: saving model to model/keypoint_classifier\\keypoint_classifier.hdf5\n",
      "29/29 [==============================] - 0s 7ms/step - loss: 0.9292 - accuracy: 0.5844 - val_loss: 0.7532 - val_accuracy: 0.7586\n",
      "Epoch 14/1000\n",
      "15/29 [==============>...............] - ETA: 0s - loss: 0.9131 - accuracy: 0.5740\n",
      "Epoch 14: saving model to model/keypoint_classifier\\keypoint_classifier.hdf5\n",
      "29/29 [==============================] - 0s 6ms/step - loss: 0.9148 - accuracy: 0.5799 - val_loss: 0.7341 - val_accuracy: 0.7778\n",
      "Epoch 15/1000\n",
      "17/29 [================>.............] - ETA: 0s - loss: 0.8911 - accuracy: 0.5846\n",
      "Epoch 15: saving model to model/keypoint_classifier\\keypoint_classifier.hdf5\n",
      "29/29 [==============================] - 0s 7ms/step - loss: 0.8827 - accuracy: 0.5903 - val_loss: 0.7094 - val_accuracy: 0.7836\n",
      "Epoch 16/1000\n",
      "26/29 [=========================>....] - ETA: 0s - loss: 0.8884 - accuracy: 0.5925\n",
      "Epoch 16: saving model to model/keypoint_classifier\\keypoint_classifier.hdf5\n",
      "29/29 [==============================] - 0s 7ms/step - loss: 0.8865 - accuracy: 0.5914 - val_loss: 0.6869 - val_accuracy: 0.7970\n",
      "Epoch 17/1000\n",
      "15/29 [==============>...............] - ETA: 0s - loss: 0.8825 - accuracy: 0.6099\n",
      "Epoch 17: saving model to model/keypoint_classifier\\keypoint_classifier.hdf5\n",
      "29/29 [==============================] - 0s 6ms/step - loss: 0.8787 - accuracy: 0.6042 - val_loss: 0.6691 - val_accuracy: 0.8045\n",
      "Epoch 18/1000\n",
      "24/29 [=======================>......] - ETA: 0s - loss: 0.8686 - accuracy: 0.6110\n",
      "Epoch 18: saving model to model/keypoint_classifier\\keypoint_classifier.hdf5\n",
      "29/29 [==============================] - 0s 8ms/step - loss: 0.8745 - accuracy: 0.6086 - val_loss: 0.6537 - val_accuracy: 0.8162\n",
      "Epoch 19/1000\n",
      "17/29 [================>.............] - ETA: 0s - loss: 0.8386 - accuracy: 0.6264\n",
      "Epoch 19: saving model to model/keypoint_classifier\\keypoint_classifier.hdf5\n",
      "29/29 [==============================] - 0s 6ms/step - loss: 0.8386 - accuracy: 0.6320 - val_loss: 0.6274 - val_accuracy: 0.8371\n",
      "Epoch 20/1000\n",
      "19/29 [==================>...........] - ETA: 0s - loss: 0.8241 - accuracy: 0.6369\n",
      "Epoch 20: saving model to model/keypoint_classifier\\keypoint_classifier.hdf5\n",
      "29/29 [==============================] - 0s 7ms/step - loss: 0.8222 - accuracy: 0.6351 - val_loss: 0.6054 - val_accuracy: 0.8413\n",
      "Epoch 21/1000\n",
      "26/29 [=========================>....] - ETA: 0s - loss: 0.8303 - accuracy: 0.6334\n",
      "Epoch 21: saving model to model/keypoint_classifier\\keypoint_classifier.hdf5\n",
      "29/29 [==============================] - 0s 7ms/step - loss: 0.8329 - accuracy: 0.6298 - val_loss: 0.5879 - val_accuracy: 0.8571\n",
      "Epoch 22/1000\n",
      "25/29 [========================>.....] - ETA: 0s - loss: 0.8065 - accuracy: 0.6497\n",
      "Epoch 22: saving model to model/keypoint_classifier\\keypoint_classifier.hdf5\n",
      "29/29 [==============================] - 0s 7ms/step - loss: 0.8039 - accuracy: 0.6507 - val_loss: 0.5730 - val_accuracy: 0.8530\n",
      "Epoch 23/1000\n",
      "24/29 [=======================>......] - ETA: 0s - loss: 0.7765 - accuracy: 0.6572\n",
      "Epoch 23: saving model to model/keypoint_classifier\\keypoint_classifier.hdf5\n",
      "29/29 [==============================] - 0s 7ms/step - loss: 0.7720 - accuracy: 0.6643 - val_loss: 0.5439 - val_accuracy: 0.8713\n",
      "Epoch 24/1000\n",
      "25/29 [========================>.....] - ETA: 0s - loss: 0.7776 - accuracy: 0.6616\n",
      "Epoch 24: saving model to model/keypoint_classifier\\keypoint_classifier.hdf5\n",
      "29/29 [==============================] - 0s 7ms/step - loss: 0.7763 - accuracy: 0.6638 - val_loss: 0.5215 - val_accuracy: 0.8764\n",
      "Epoch 25/1000\n",
      "23/29 [======================>.......] - ETA: 0s - loss: 0.7490 - accuracy: 0.6875\n",
      "Epoch 25: saving model to model/keypoint_classifier\\keypoint_classifier.hdf5\n",
      "29/29 [==============================] - 0s 9ms/step - loss: 0.7535 - accuracy: 0.6825 - val_loss: 0.5078 - val_accuracy: 0.8822\n",
      "Epoch 26/1000\n",
      "23/29 [======================>.......] - ETA: 0s - loss: 0.7565 - accuracy: 0.6664\n",
      "Epoch 26: saving model to model/keypoint_classifier\\keypoint_classifier.hdf5\n",
      "29/29 [==============================] - 0s 8ms/step - loss: 0.7608 - accuracy: 0.6660 - val_loss: 0.4992 - val_accuracy: 0.8881\n",
      "Epoch 27/1000\n",
      "22/29 [=====================>........] - ETA: 0s - loss: 0.7423 - accuracy: 0.6765\n",
      "Epoch 27: saving model to model/keypoint_classifier\\keypoint_classifier.hdf5\n",
      "29/29 [==============================] - 0s 7ms/step - loss: 0.7377 - accuracy: 0.6822 - val_loss: 0.4807 - val_accuracy: 0.8906\n",
      "Epoch 28/1000\n",
      "25/29 [========================>.....] - ETA: 0s - loss: 0.7290 - accuracy: 0.6784\n",
      "Epoch 28: saving model to model/keypoint_classifier\\keypoint_classifier.hdf5\n",
      "29/29 [==============================] - 0s 7ms/step - loss: 0.7295 - accuracy: 0.6783 - val_loss: 0.4751 - val_accuracy: 0.8972\n",
      "Epoch 29/1000\n",
      "24/29 [=======================>......] - ETA: 0s - loss: 0.7378 - accuracy: 0.6813\n",
      "Epoch 29: saving model to model/keypoint_classifier\\keypoint_classifier.hdf5\n",
      "29/29 [==============================] - 0s 7ms/step - loss: 0.7351 - accuracy: 0.6816 - val_loss: 0.4535 - val_accuracy: 0.9181\n",
      "Epoch 30/1000\n",
      "25/29 [========================>.....] - ETA: 0s - loss: 0.7268 - accuracy: 0.6903\n",
      "Epoch 30: saving model to model/keypoint_classifier\\keypoint_classifier.hdf5\n",
      "29/29 [==============================] - 0s 7ms/step - loss: 0.7245 - accuracy: 0.6908 - val_loss: 0.4479 - val_accuracy: 0.9231\n",
      "Epoch 31/1000\n",
      "22/29 [=====================>........] - ETA: 0s - loss: 0.7256 - accuracy: 0.6886\n",
      "Epoch 31: saving model to model/keypoint_classifier\\keypoint_classifier.hdf5\n",
      "29/29 [==============================] - 0s 8ms/step - loss: 0.7254 - accuracy: 0.6914 - val_loss: 0.4447 - val_accuracy: 0.9215\n",
      "Epoch 32/1000\n",
      "24/29 [=======================>......] - ETA: 0s - loss: 0.7124 - accuracy: 0.7005\n",
      "Epoch 32: saving model to model/keypoint_classifier\\keypoint_classifier.hdf5\n",
      "29/29 [==============================] - 0s 7ms/step - loss: 0.7158 - accuracy: 0.6967 - val_loss: 0.4349 - val_accuracy: 0.9173\n",
      "Epoch 33/1000\n",
      "25/29 [========================>.....] - ETA: 0s - loss: 0.6892 - accuracy: 0.7166\n",
      "Epoch 33: saving model to model/keypoint_classifier\\keypoint_classifier.hdf5\n",
      "29/29 [==============================] - 0s 8ms/step - loss: 0.6886 - accuracy: 0.7153 - val_loss: 0.4174 - val_accuracy: 0.9298\n",
      "Epoch 34/1000\n",
      "19/29 [==================>...........] - ETA: 0s - loss: 0.6903 - accuracy: 0.7163\n",
      "Epoch 34: saving model to model/keypoint_classifier\\keypoint_classifier.hdf5\n",
      "29/29 [==============================] - 0s 8ms/step - loss: 0.6975 - accuracy: 0.7067 - val_loss: 0.4090 - val_accuracy: 0.9307\n",
      "Epoch 35/1000\n",
      "26/29 [=========================>....] - ETA: 0s - loss: 0.6759 - accuracy: 0.7197\n",
      "Epoch 35: saving model to model/keypoint_classifier\\keypoint_classifier.hdf5\n",
      "29/29 [==============================] - 0s 7ms/step - loss: 0.6766 - accuracy: 0.7181 - val_loss: 0.3962 - val_accuracy: 0.9307\n",
      "Epoch 36/1000\n",
      "23/29 [======================>.......] - ETA: 0s - loss: 0.6779 - accuracy: 0.7109\n",
      "Epoch 36: saving model to model/keypoint_classifier\\keypoint_classifier.hdf5\n",
      "29/29 [==============================] - 0s 8ms/step - loss: 0.6802 - accuracy: 0.7142 - val_loss: 0.3903 - val_accuracy: 0.9307\n",
      "Epoch 37/1000\n",
      "24/29 [=======================>......] - ETA: 0s - loss: 0.6887 - accuracy: 0.7135\n",
      "Epoch 37: saving model to model/keypoint_classifier\\keypoint_classifier.hdf5\n",
      "29/29 [==============================] - 0s 8ms/step - loss: 0.6901 - accuracy: 0.7106 - val_loss: 0.3842 - val_accuracy: 0.9348\n",
      "Epoch 38/1000\n",
      "23/29 [======================>.......] - ETA: 0s - loss: 0.6778 - accuracy: 0.7218\n",
      "Epoch 38: saving model to model/keypoint_classifier\\keypoint_classifier.hdf5\n",
      "29/29 [==============================] - 0s 8ms/step - loss: 0.6773 - accuracy: 0.7214 - val_loss: 0.3841 - val_accuracy: 0.9440\n",
      "Epoch 39/1000\n",
      "23/29 [======================>.......] - ETA: 0s - loss: 0.6783 - accuracy: 0.7171\n",
      "Epoch 39: saving model to model/keypoint_classifier\\keypoint_classifier.hdf5\n",
      "29/29 [==============================] - 0s 7ms/step - loss: 0.6796 - accuracy: 0.7192 - val_loss: 0.3780 - val_accuracy: 0.9432\n",
      "Epoch 40/1000\n",
      "27/29 [==========================>...] - ETA: 0s - loss: 0.6503 - accuracy: 0.7352\n",
      "Epoch 40: saving model to model/keypoint_classifier\\keypoint_classifier.hdf5\n",
      "29/29 [==============================] - 0s 7ms/step - loss: 0.6489 - accuracy: 0.7370 - val_loss: 0.3724 - val_accuracy: 0.9365\n",
      "Epoch 41/1000\n",
      "22/29 [=====================>........] - ETA: 0s - loss: 0.6437 - accuracy: 0.7390\n",
      "Epoch 41: saving model to model/keypoint_classifier\\keypoint_classifier.hdf5\n",
      "29/29 [==============================] - 0s 7ms/step - loss: 0.6497 - accuracy: 0.7343 - val_loss: 0.3647 - val_accuracy: 0.9415\n",
      "Epoch 42/1000\n",
      "22/29 [=====================>........] - ETA: 0s - loss: 0.6651 - accuracy: 0.7216\n",
      "Epoch 42: saving model to model/keypoint_classifier\\keypoint_classifier.hdf5\n",
      "29/29 [==============================] - 0s 8ms/step - loss: 0.6662 - accuracy: 0.7223 - val_loss: 0.3605 - val_accuracy: 0.9549\n",
      "Epoch 43/1000\n",
      "24/29 [=======================>......] - ETA: 0s - loss: 0.6565 - accuracy: 0.7217\n",
      "Epoch 43: saving model to model/keypoint_classifier\\keypoint_classifier.hdf5\n",
      "29/29 [==============================] - 0s 7ms/step - loss: 0.6582 - accuracy: 0.7198 - val_loss: 0.3630 - val_accuracy: 0.9524\n",
      "Epoch 44/1000\n",
      "26/29 [=========================>....] - ETA: 0s - loss: 0.6557 - accuracy: 0.7320\n",
      "Epoch 44: saving model to model/keypoint_classifier\\keypoint_classifier.hdf5\n",
      "29/29 [==============================] - 0s 7ms/step - loss: 0.6537 - accuracy: 0.7340 - val_loss: 0.3515 - val_accuracy: 0.9532\n",
      "Epoch 45/1000\n",
      "22/29 [=====================>........] - ETA: 0s - loss: 0.6531 - accuracy: 0.7230\n",
      "Epoch 45: saving model to model/keypoint_classifier\\keypoint_classifier.hdf5\n",
      "29/29 [==============================] - 0s 8ms/step - loss: 0.6484 - accuracy: 0.7251 - val_loss: 0.3442 - val_accuracy: 0.9557\n",
      "Epoch 46/1000\n",
      "24/29 [=======================>......] - ETA: 0s - loss: 0.6331 - accuracy: 0.7493\n",
      "Epoch 46: saving model to model/keypoint_classifier\\keypoint_classifier.hdf5\n",
      "29/29 [==============================] - 0s 8ms/step - loss: 0.6332 - accuracy: 0.7474 - val_loss: 0.3365 - val_accuracy: 0.9557\n",
      "Epoch 47/1000\n",
      "26/29 [=========================>....] - ETA: 0s - loss: 0.6292 - accuracy: 0.7431\n",
      "Epoch 47: saving model to model/keypoint_classifier\\keypoint_classifier.hdf5\n",
      "29/29 [==============================] - 0s 8ms/step - loss: 0.6311 - accuracy: 0.7426 - val_loss: 0.3292 - val_accuracy: 0.9524\n",
      "Epoch 48/1000\n",
      "27/29 [==========================>...] - ETA: 0s - loss: 0.6309 - accuracy: 0.7457\n",
      "Epoch 48: saving model to model/keypoint_classifier\\keypoint_classifier.hdf5\n",
      "29/29 [==============================] - 0s 7ms/step - loss: 0.6322 - accuracy: 0.7454 - val_loss: 0.3250 - val_accuracy: 0.9549\n",
      "Epoch 49/1000\n",
      "25/29 [========================>.....] - ETA: 0s - loss: 0.6432 - accuracy: 0.7447\n",
      "Epoch 49: saving model to model/keypoint_classifier\\keypoint_classifier.hdf5\n",
      "29/29 [==============================] - 0s 7ms/step - loss: 0.6449 - accuracy: 0.7429 - val_loss: 0.3277 - val_accuracy: 0.9566\n",
      "Epoch 50/1000\n",
      "24/29 [=======================>......] - ETA: 0s - loss: 0.6175 - accuracy: 0.7458\n",
      "Epoch 50: saving model to model/keypoint_classifier\\keypoint_classifier.hdf5\n",
      "29/29 [==============================] - 0s 7ms/step - loss: 0.6136 - accuracy: 0.7515 - val_loss: 0.3253 - val_accuracy: 0.9541\n",
      "Epoch 51/1000\n",
      "27/29 [==========================>...] - ETA: 0s - loss: 0.6160 - accuracy: 0.7465\n",
      "Epoch 51: saving model to model/keypoint_classifier\\keypoint_classifier.hdf5\n",
      "29/29 [==============================] - 0s 7ms/step - loss: 0.6181 - accuracy: 0.7465 - val_loss: 0.3154 - val_accuracy: 0.9557\n",
      "Epoch 52/1000\n",
      "25/29 [========================>.....] - ETA: 0s - loss: 0.6020 - accuracy: 0.7625\n",
      "Epoch 52: saving model to model/keypoint_classifier\\keypoint_classifier.hdf5\n",
      "29/29 [==============================] - 0s 7ms/step - loss: 0.6008 - accuracy: 0.7607 - val_loss: 0.3104 - val_accuracy: 0.9532\n",
      "Epoch 53/1000\n",
      "25/29 [========================>.....] - ETA: 0s - loss: 0.6139 - accuracy: 0.7456\n",
      "Epoch 53: saving model to model/keypoint_classifier\\keypoint_classifier.hdf5\n",
      "29/29 [==============================] - 0s 7ms/step - loss: 0.6102 - accuracy: 0.7479 - val_loss: 0.3018 - val_accuracy: 0.9549\n",
      "Epoch 54/1000\n",
      "24/29 [=======================>......] - ETA: 0s - loss: 0.6160 - accuracy: 0.7520\n",
      "Epoch 54: saving model to model/keypoint_classifier\\keypoint_classifier.hdf5\n",
      "29/29 [==============================] - 0s 7ms/step - loss: 0.6240 - accuracy: 0.7476 - val_loss: 0.3031 - val_accuracy: 0.9624\n",
      "Epoch 55/1000\n",
      "25/29 [========================>.....] - ETA: 0s - loss: 0.6126 - accuracy: 0.7547\n",
      "Epoch 55: saving model to model/keypoint_classifier\\keypoint_classifier.hdf5\n",
      "29/29 [==============================] - 0s 8ms/step - loss: 0.6163 - accuracy: 0.7546 - val_loss: 0.3087 - val_accuracy: 0.9541\n",
      "Epoch 56/1000\n",
      "25/29 [========================>.....] - ETA: 0s - loss: 0.5961 - accuracy: 0.7650\n",
      "Epoch 56: saving model to model/keypoint_classifier\\keypoint_classifier.hdf5\n",
      "29/29 [==============================] - 0s 8ms/step - loss: 0.5926 - accuracy: 0.7660 - val_loss: 0.2981 - val_accuracy: 0.9566\n",
      "Epoch 57/1000\n",
      "26/29 [=========================>....] - ETA: 0s - loss: 0.6064 - accuracy: 0.7641\n",
      "Epoch 57: saving model to model/keypoint_classifier\\keypoint_classifier.hdf5\n",
      "29/29 [==============================] - 0s 8ms/step - loss: 0.6119 - accuracy: 0.7624 - val_loss: 0.2930 - val_accuracy: 0.9599\n",
      "Epoch 58/1000\n",
      "24/29 [=======================>......] - ETA: 0s - loss: 0.6135 - accuracy: 0.7578\n",
      "Epoch 58: saving model to model/keypoint_classifier\\keypoint_classifier.hdf5\n",
      "29/29 [==============================] - 0s 7ms/step - loss: 0.6122 - accuracy: 0.7596 - val_loss: 0.2919 - val_accuracy: 0.9632\n",
      "Epoch 59/1000\n",
      "24/29 [=======================>......] - ETA: 0s - loss: 0.5908 - accuracy: 0.7627\n",
      "Epoch 59: saving model to model/keypoint_classifier\\keypoint_classifier.hdf5\n",
      "29/29 [==============================] - 0s 7ms/step - loss: 0.6001 - accuracy: 0.7588 - val_loss: 0.2846 - val_accuracy: 0.9657\n",
      "Epoch 60/1000\n",
      "22/29 [=====================>........] - ETA: 0s - loss: 0.5989 - accuracy: 0.7624\n",
      "Epoch 60: saving model to model/keypoint_classifier\\keypoint_classifier.hdf5\n",
      "29/29 [==============================] - 0s 8ms/step - loss: 0.6104 - accuracy: 0.7568 - val_loss: 0.2912 - val_accuracy: 0.9607\n",
      "Epoch 61/1000\n",
      "25/29 [========================>.....] - ETA: 0s - loss: 0.5994 - accuracy: 0.7659\n",
      "Epoch 61: saving model to model/keypoint_classifier\\keypoint_classifier.hdf5\n",
      "29/29 [==============================] - 0s 7ms/step - loss: 0.5921 - accuracy: 0.7677 - val_loss: 0.2875 - val_accuracy: 0.9624\n",
      "Epoch 62/1000\n",
      "25/29 [========================>.....] - ETA: 0s - loss: 0.5803 - accuracy: 0.7734\n",
      "Epoch 62: saving model to model/keypoint_classifier\\keypoint_classifier.hdf5\n",
      "29/29 [==============================] - 0s 7ms/step - loss: 0.5857 - accuracy: 0.7702 - val_loss: 0.2796 - val_accuracy: 0.9607\n",
      "Epoch 63/1000\n",
      "24/29 [=======================>......] - ETA: 0s - loss: 0.5993 - accuracy: 0.7630\n",
      "Epoch 63: saving model to model/keypoint_classifier\\keypoint_classifier.hdf5\n",
      "29/29 [==============================] - 0s 7ms/step - loss: 0.5909 - accuracy: 0.7677 - val_loss: 0.2797 - val_accuracy: 0.9641\n",
      "Epoch 64/1000\n",
      "26/29 [=========================>....] - ETA: 0s - loss: 0.5801 - accuracy: 0.7665\n",
      "Epoch 64: saving model to model/keypoint_classifier\\keypoint_classifier.hdf5\n",
      "29/29 [==============================] - 0s 7ms/step - loss: 0.5820 - accuracy: 0.7666 - val_loss: 0.2760 - val_accuracy: 0.9674\n",
      "Epoch 65/1000\n",
      "25/29 [========================>.....] - ETA: 0s - loss: 0.5759 - accuracy: 0.7738\n",
      "Epoch 65: saving model to model/keypoint_classifier\\keypoint_classifier.hdf5\n",
      "29/29 [==============================] - 0s 8ms/step - loss: 0.5736 - accuracy: 0.7747 - val_loss: 0.2688 - val_accuracy: 0.9683\n",
      "Epoch 66/1000\n",
      "26/29 [=========================>....] - ETA: 0s - loss: 0.5709 - accuracy: 0.7806\n",
      "Epoch 66: saving model to model/keypoint_classifier\\keypoint_classifier.hdf5\n",
      "29/29 [==============================] - 0s 7ms/step - loss: 0.5719 - accuracy: 0.7799 - val_loss: 0.2643 - val_accuracy: 0.9666\n",
      "Epoch 67/1000\n",
      "23/29 [======================>.......] - ETA: 0s - loss: 0.5890 - accuracy: 0.7636\n",
      "Epoch 67: saving model to model/keypoint_classifier\\keypoint_classifier.hdf5\n",
      "29/29 [==============================] - 0s 8ms/step - loss: 0.5888 - accuracy: 0.7618 - val_loss: 0.2585 - val_accuracy: 0.9699\n",
      "Epoch 68/1000\n",
      "25/29 [========================>.....] - ETA: 0s - loss: 0.5696 - accuracy: 0.7756\n",
      "Epoch 68: saving model to model/keypoint_classifier\\keypoint_classifier.hdf5\n",
      "29/29 [==============================] - 0s 7ms/step - loss: 0.5729 - accuracy: 0.7733 - val_loss: 0.2569 - val_accuracy: 0.9674\n",
      "Epoch 69/1000\n",
      "29/29 [==============================] - ETA: 0s - loss: 0.5682 - accuracy: 0.7763\n",
      "Epoch 69: saving model to model/keypoint_classifier\\keypoint_classifier.hdf5\n",
      "29/29 [==============================] - 0s 6ms/step - loss: 0.5682 - accuracy: 0.7763 - val_loss: 0.2602 - val_accuracy: 0.9607\n",
      "Epoch 70/1000\n",
      "20/29 [===================>..........] - ETA: 0s - loss: 0.5848 - accuracy: 0.7723\n",
      "Epoch 70: saving model to model/keypoint_classifier\\keypoint_classifier.hdf5\n",
      "29/29 [==============================] - 0s 6ms/step - loss: 0.5745 - accuracy: 0.7760 - val_loss: 0.2579 - val_accuracy: 0.9683\n",
      "Epoch 71/1000\n",
      "29/29 [==============================] - ETA: 0s - loss: 0.5607 - accuracy: 0.7836\n",
      "Epoch 71: saving model to model/keypoint_classifier\\keypoint_classifier.hdf5\n",
      "29/29 [==============================] - 0s 6ms/step - loss: 0.5607 - accuracy: 0.7836 - val_loss: 0.2530 - val_accuracy: 0.9641\n",
      "Epoch 72/1000\n",
      "15/29 [==============>...............] - ETA: 0s - loss: 0.5642 - accuracy: 0.7823\n",
      "Epoch 72: saving model to model/keypoint_classifier\\keypoint_classifier.hdf5\n",
      "29/29 [==============================] - 0s 7ms/step - loss: 0.5572 - accuracy: 0.7830 - val_loss: 0.2511 - val_accuracy: 0.9657\n",
      "Epoch 73/1000\n",
      "26/29 [=========================>....] - ETA: 0s - loss: 0.5432 - accuracy: 0.7852\n",
      "Epoch 73: saving model to model/keypoint_classifier\\keypoint_classifier.hdf5\n",
      "29/29 [==============================] - 0s 7ms/step - loss: 0.5411 - accuracy: 0.7841 - val_loss: 0.2432 - val_accuracy: 0.9649\n",
      "Epoch 74/1000\n",
      "28/29 [===========================>..] - ETA: 0s - loss: 0.5660 - accuracy: 0.7821\n",
      "Epoch 74: saving model to model/keypoint_classifier\\keypoint_classifier.hdf5\n",
      "29/29 [==============================] - 0s 7ms/step - loss: 0.5654 - accuracy: 0.7825 - val_loss: 0.2414 - val_accuracy: 0.9699\n",
      "Epoch 75/1000\n",
      "26/29 [=========================>....] - ETA: 0s - loss: 0.5605 - accuracy: 0.7761\n",
      "Epoch 75: saving model to model/keypoint_classifier\\keypoint_classifier.hdf5\n",
      "29/29 [==============================] - 0s 7ms/step - loss: 0.5556 - accuracy: 0.7797 - val_loss: 0.2453 - val_accuracy: 0.9716\n",
      "Epoch 76/1000\n",
      "25/29 [========================>.....] - ETA: 0s - loss: 0.5467 - accuracy: 0.7837\n",
      "Epoch 76: saving model to model/keypoint_classifier\\keypoint_classifier.hdf5\n",
      "29/29 [==============================] - 0s 7ms/step - loss: 0.5554 - accuracy: 0.7805 - val_loss: 0.2486 - val_accuracy: 0.9591\n",
      "Epoch 77/1000\n",
      "28/29 [===========================>..] - ETA: 0s - loss: 0.5613 - accuracy: 0.7779\n",
      "Epoch 77: saving model to model/keypoint_classifier\\keypoint_classifier.hdf5\n",
      "29/29 [==============================] - 0s 6ms/step - loss: 0.5609 - accuracy: 0.7783 - val_loss: 0.2474 - val_accuracy: 0.9591\n",
      "Epoch 78/1000\n",
      "16/29 [===============>..............] - ETA: 0s - loss: 0.5363 - accuracy: 0.7935\n",
      "Epoch 78: saving model to model/keypoint_classifier\\keypoint_classifier.hdf5\n",
      "29/29 [==============================] - 0s 6ms/step - loss: 0.5278 - accuracy: 0.7994 - val_loss: 0.2385 - val_accuracy: 0.9641\n",
      "Epoch 79/1000\n",
      "18/29 [=================>............] - ETA: 0s - loss: 0.5515 - accuracy: 0.7817\n",
      "Epoch 79: saving model to model/keypoint_classifier\\keypoint_classifier.hdf5\n",
      "29/29 [==============================] - 0s 6ms/step - loss: 0.5499 - accuracy: 0.7836 - val_loss: 0.2414 - val_accuracy: 0.9649\n",
      "Epoch 80/1000\n",
      "14/29 [=============>................] - ETA: 0s - loss: 0.5469 - accuracy: 0.7852\n",
      "Epoch 80: saving model to model/keypoint_classifier\\keypoint_classifier.hdf5\n",
      "29/29 [==============================] - 0s 6ms/step - loss: 0.5461 - accuracy: 0.7861 - val_loss: 0.2352 - val_accuracy: 0.9649\n",
      "Epoch 81/1000\n",
      "14/29 [=============>................] - ETA: 0s - loss: 0.5550 - accuracy: 0.7829\n",
      "Epoch 81: saving model to model/keypoint_classifier\\keypoint_classifier.hdf5\n",
      "29/29 [==============================] - 0s 7ms/step - loss: 0.5438 - accuracy: 0.7875 - val_loss: 0.2337 - val_accuracy: 0.9666\n",
      "Epoch 82/1000\n",
      "17/29 [================>.............] - ETA: 0s - loss: 0.5692 - accuracy: 0.7730\n",
      "Epoch 82: saving model to model/keypoint_classifier\\keypoint_classifier.hdf5\n",
      "29/29 [==============================] - 0s 7ms/step - loss: 0.5563 - accuracy: 0.7819 - val_loss: 0.2367 - val_accuracy: 0.9699\n",
      "Epoch 83/1000\n",
      "16/29 [===============>..............] - ETA: 0s - loss: 0.5569 - accuracy: 0.7827\n",
      "Epoch 83: saving model to model/keypoint_classifier\\keypoint_classifier.hdf5\n",
      "29/29 [==============================] - 0s 7ms/step - loss: 0.5488 - accuracy: 0.7877 - val_loss: 0.2321 - val_accuracy: 0.9733\n",
      "Epoch 84/1000\n",
      "25/29 [========================>.....] - ETA: 0s - loss: 0.5484 - accuracy: 0.7841\n",
      "Epoch 84: saving model to model/keypoint_classifier\\keypoint_classifier.hdf5\n",
      "29/29 [==============================] - 0s 7ms/step - loss: 0.5419 - accuracy: 0.7852 - val_loss: 0.2297 - val_accuracy: 0.9683\n",
      "Epoch 85/1000\n",
      "25/29 [========================>.....] - ETA: 0s - loss: 0.5565 - accuracy: 0.7847\n",
      "Epoch 85: saving model to model/keypoint_classifier\\keypoint_classifier.hdf5\n",
      "29/29 [==============================] - 0s 7ms/step - loss: 0.5522 - accuracy: 0.7866 - val_loss: 0.2329 - val_accuracy: 0.9657\n",
      "Epoch 86/1000\n",
      "27/29 [==========================>...] - ETA: 0s - loss: 0.5309 - accuracy: 0.7946\n",
      "Epoch 86: saving model to model/keypoint_classifier\\keypoint_classifier.hdf5\n",
      "29/29 [==============================] - 0s 7ms/step - loss: 0.5287 - accuracy: 0.7969 - val_loss: 0.2385 - val_accuracy: 0.9616\n",
      "Epoch 87/1000\n",
      "28/29 [===========================>..] - ETA: 0s - loss: 0.5369 - accuracy: 0.7885\n",
      "Epoch 87: saving model to model/keypoint_classifier\\keypoint_classifier.hdf5\n",
      "29/29 [==============================] - 0s 7ms/step - loss: 0.5370 - accuracy: 0.7886 - val_loss: 0.2308 - val_accuracy: 0.9666\n",
      "Epoch 88/1000\n",
      "20/29 [===================>..........] - ETA: 0s - loss: 0.5413 - accuracy: 0.7875\n",
      "Epoch 88: saving model to model/keypoint_classifier\\keypoint_classifier.hdf5\n",
      "29/29 [==============================] - 0s 7ms/step - loss: 0.5302 - accuracy: 0.7919 - val_loss: 0.2256 - val_accuracy: 0.9724\n",
      "Epoch 89/1000\n",
      "25/29 [========================>.....] - ETA: 0s - loss: 0.5593 - accuracy: 0.7791\n",
      "Epoch 89: saving model to model/keypoint_classifier\\keypoint_classifier.hdf5\n",
      "29/29 [==============================] - 0s 7ms/step - loss: 0.5522 - accuracy: 0.7808 - val_loss: 0.2293 - val_accuracy: 0.9657\n",
      "Epoch 90/1000\n",
      "25/29 [========================>.....] - ETA: 0s - loss: 0.5469 - accuracy: 0.7912\n",
      "Epoch 90: saving model to model/keypoint_classifier\\keypoint_classifier.hdf5\n",
      "29/29 [==============================] - 0s 7ms/step - loss: 0.5383 - accuracy: 0.7933 - val_loss: 0.2220 - val_accuracy: 0.9683\n",
      "Epoch 91/1000\n",
      "23/29 [======================>.......] - ETA: 0s - loss: 0.5246 - accuracy: 0.7993\n",
      "Epoch 91: saving model to model/keypoint_classifier\\keypoint_classifier.hdf5\n",
      "29/29 [==============================] - 0s 7ms/step - loss: 0.5296 - accuracy: 0.7964 - val_loss: 0.2249 - val_accuracy: 0.9641\n",
      "Epoch 92/1000\n",
      "24/29 [=======================>......] - ETA: 0s - loss: 0.5193 - accuracy: 0.8011\n",
      "Epoch 92: saving model to model/keypoint_classifier\\keypoint_classifier.hdf5\n",
      "29/29 [==============================] - 0s 7ms/step - loss: 0.5229 - accuracy: 0.7983 - val_loss: 0.2208 - val_accuracy: 0.9708\n",
      "Epoch 93/1000\n",
      "25/29 [========================>.....] - ETA: 0s - loss: 0.5379 - accuracy: 0.7900\n",
      "Epoch 93: saving model to model/keypoint_classifier\\keypoint_classifier.hdf5\n",
      "29/29 [==============================] - 0s 7ms/step - loss: 0.5414 - accuracy: 0.7886 - val_loss: 0.2236 - val_accuracy: 0.9683\n",
      "Epoch 94/1000\n",
      "23/29 [======================>.......] - ETA: 0s - loss: 0.5306 - accuracy: 0.7887\n",
      "Epoch 94: saving model to model/keypoint_classifier\\keypoint_classifier.hdf5\n",
      "29/29 [==============================] - 0s 8ms/step - loss: 0.5381 - accuracy: 0.7808 - val_loss: 0.2192 - val_accuracy: 0.9716\n",
      "Epoch 95/1000\n",
      "27/29 [==========================>...] - ETA: 0s - loss: 0.5307 - accuracy: 0.7937\n",
      "Epoch 95: saving model to model/keypoint_classifier\\keypoint_classifier.hdf5\n",
      "29/29 [==============================] - 0s 7ms/step - loss: 0.5308 - accuracy: 0.7936 - val_loss: 0.2205 - val_accuracy: 0.9699\n",
      "Epoch 96/1000\n",
      "25/29 [========================>.....] - ETA: 0s - loss: 0.5494 - accuracy: 0.7941\n",
      "Epoch 96: saving model to model/keypoint_classifier\\keypoint_classifier.hdf5\n",
      "29/29 [==============================] - 0s 7ms/step - loss: 0.5402 - accuracy: 0.7983 - val_loss: 0.2148 - val_accuracy: 0.9766\n",
      "Epoch 97/1000\n",
      "27/29 [==========================>...] - ETA: 0s - loss: 0.5151 - accuracy: 0.8070\n",
      "Epoch 97: saving model to model/keypoint_classifier\\keypoint_classifier.hdf5\n",
      "29/29 [==============================] - 0s 8ms/step - loss: 0.5147 - accuracy: 0.8067 - val_loss: 0.2165 - val_accuracy: 0.9683\n",
      "Epoch 98/1000\n",
      "17/29 [================>.............] - ETA: 0s - loss: 0.5033 - accuracy: 0.8088\n",
      "Epoch 98: saving model to model/keypoint_classifier\\keypoint_classifier.hdf5\n",
      "29/29 [==============================] - 0s 6ms/step - loss: 0.5065 - accuracy: 0.8028 - val_loss: 0.2105 - val_accuracy: 0.9691\n",
      "Epoch 99/1000\n",
      "15/29 [==============>...............] - ETA: 0s - loss: 0.5161 - accuracy: 0.7911\n",
      "Epoch 99: saving model to model/keypoint_classifier\\keypoint_classifier.hdf5\n",
      "29/29 [==============================] - 0s 6ms/step - loss: 0.5208 - accuracy: 0.7925 - val_loss: 0.2129 - val_accuracy: 0.9691\n",
      "Epoch 100/1000\n",
      "19/29 [==================>...........] - ETA: 0s - loss: 0.5216 - accuracy: 0.7993\n",
      "Epoch 100: saving model to model/keypoint_classifier\\keypoint_classifier.hdf5\n",
      "29/29 [==============================] - 0s 7ms/step - loss: 0.5261 - accuracy: 0.7989 - val_loss: 0.2095 - val_accuracy: 0.9749\n",
      "Epoch 101/1000\n",
      "28/29 [===========================>..] - ETA: 0s - loss: 0.5162 - accuracy: 0.8030\n",
      "Epoch 101: saving model to model/keypoint_classifier\\keypoint_classifier.hdf5\n",
      "29/29 [==============================] - 0s 7ms/step - loss: 0.5163 - accuracy: 0.8031 - val_loss: 0.2157 - val_accuracy: 0.9708\n",
      "Epoch 102/1000\n",
      "28/29 [===========================>..] - ETA: 0s - loss: 0.4935 - accuracy: 0.8055\n",
      "Epoch 102: saving model to model/keypoint_classifier\\keypoint_classifier.hdf5\n",
      "29/29 [==============================] - 0s 7ms/step - loss: 0.4938 - accuracy: 0.8053 - val_loss: 0.2120 - val_accuracy: 0.9691\n",
      "Epoch 103/1000\n",
      "21/29 [====================>.........] - ETA: 0s - loss: 0.5360 - accuracy: 0.7943\n",
      "Epoch 103: saving model to model/keypoint_classifier\\keypoint_classifier.hdf5\n",
      "29/29 [==============================] - 0s 8ms/step - loss: 0.5332 - accuracy: 0.7953 - val_loss: 0.2120 - val_accuracy: 0.9683\n",
      "Epoch 104/1000\n",
      "26/29 [=========================>....] - ETA: 0s - loss: 0.5053 - accuracy: 0.7990\n",
      "Epoch 104: saving model to model/keypoint_classifier\\keypoint_classifier.hdf5\n",
      "29/29 [==============================] - 0s 8ms/step - loss: 0.5080 - accuracy: 0.7958 - val_loss: 0.2095 - val_accuracy: 0.9716\n",
      "Epoch 105/1000\n",
      "25/29 [========================>.....] - ETA: 0s - loss: 0.5130 - accuracy: 0.8075\n",
      "Epoch 105: saving model to model/keypoint_classifier\\keypoint_classifier.hdf5\n",
      "29/29 [==============================] - 0s 8ms/step - loss: 0.5202 - accuracy: 0.8025 - val_loss: 0.2156 - val_accuracy: 0.9683\n",
      "Epoch 106/1000\n",
      "22/29 [=====================>........] - ETA: 0s - loss: 0.5073 - accuracy: 0.8018\n",
      "Epoch 106: saving model to model/keypoint_classifier\\keypoint_classifier.hdf5\n",
      "29/29 [==============================] - 0s 8ms/step - loss: 0.5160 - accuracy: 0.7972 - val_loss: 0.2056 - val_accuracy: 0.9766\n",
      "Epoch 107/1000\n",
      "22/29 [=====================>........] - ETA: 0s - loss: 0.5073 - accuracy: 0.8015\n",
      "Epoch 107: saving model to model/keypoint_classifier\\keypoint_classifier.hdf5\n",
      "29/29 [==============================] - 0s 8ms/step - loss: 0.5159 - accuracy: 0.7983 - val_loss: 0.2083 - val_accuracy: 0.9716\n",
      "Epoch 108/1000\n",
      "24/29 [=======================>......] - ETA: 0s - loss: 0.4952 - accuracy: 0.8099\n",
      "Epoch 108: saving model to model/keypoint_classifier\\keypoint_classifier.hdf5\n",
      "29/29 [==============================] - 0s 7ms/step - loss: 0.4961 - accuracy: 0.8095 - val_loss: 0.2013 - val_accuracy: 0.9699\n",
      "Epoch 109/1000\n",
      "25/29 [========================>.....] - ETA: 0s - loss: 0.5099 - accuracy: 0.8028\n",
      "Epoch 109: saving model to model/keypoint_classifier\\keypoint_classifier.hdf5\n",
      "29/29 [==============================] - 0s 7ms/step - loss: 0.5058 - accuracy: 0.8061 - val_loss: 0.2051 - val_accuracy: 0.9683\n",
      "Epoch 110/1000\n",
      "22/29 [=====================>........] - ETA: 0s - loss: 0.5163 - accuracy: 0.7994\n",
      "Epoch 110: saving model to model/keypoint_classifier\\keypoint_classifier.hdf5\n",
      "29/29 [==============================] - 0s 7ms/step - loss: 0.5165 - accuracy: 0.7986 - val_loss: 0.2067 - val_accuracy: 0.9691\n",
      "Epoch 111/1000\n",
      "29/29 [==============================] - ETA: 0s - loss: 0.5093 - accuracy: 0.8017\n",
      "Epoch 111: saving model to model/keypoint_classifier\\keypoint_classifier.hdf5\n",
      "29/29 [==============================] - 0s 8ms/step - loss: 0.5093 - accuracy: 0.8017 - val_loss: 0.2054 - val_accuracy: 0.9699\n",
      "Epoch 112/1000\n",
      "25/29 [========================>.....] - ETA: 0s - loss: 0.5224 - accuracy: 0.7962\n",
      "Epoch 112: saving model to model/keypoint_classifier\\keypoint_classifier.hdf5\n",
      "29/29 [==============================] - 0s 7ms/step - loss: 0.5159 - accuracy: 0.7994 - val_loss: 0.2096 - val_accuracy: 0.9674\n",
      "Epoch 113/1000\n",
      "25/29 [========================>.....] - ETA: 0s - loss: 0.5048 - accuracy: 0.8044\n",
      "Epoch 113: saving model to model/keypoint_classifier\\keypoint_classifier.hdf5\n",
      "29/29 [==============================] - 0s 7ms/step - loss: 0.4988 - accuracy: 0.8058 - val_loss: 0.2029 - val_accuracy: 0.9766\n",
      "Epoch 114/1000\n",
      "23/29 [======================>.......] - ETA: 0s - loss: 0.5160 - accuracy: 0.8047\n",
      "Epoch 114: saving model to model/keypoint_classifier\\keypoint_classifier.hdf5\n",
      "29/29 [==============================] - 0s 7ms/step - loss: 0.5059 - accuracy: 0.8084 - val_loss: 0.2029 - val_accuracy: 0.9741\n",
      "Epoch 115/1000\n",
      "26/29 [=========================>....] - ETA: 0s - loss: 0.4917 - accuracy: 0.8062\n",
      "Epoch 115: saving model to model/keypoint_classifier\\keypoint_classifier.hdf5\n",
      "29/29 [==============================] - 0s 7ms/step - loss: 0.4914 - accuracy: 0.8075 - val_loss: 0.2014 - val_accuracy: 0.9699\n",
      "Epoch 116/1000\n",
      "24/29 [=======================>......] - ETA: 0s - loss: 0.4929 - accuracy: 0.8021\n",
      "Epoch 116: saving model to model/keypoint_classifier\\keypoint_classifier.hdf5\n",
      "29/29 [==============================] - 0s 7ms/step - loss: 0.4918 - accuracy: 0.8047 - val_loss: 0.1997 - val_accuracy: 0.9691\n",
      "Epoch 117/1000\n",
      "22/29 [=====================>........] - ETA: 0s - loss: 0.4919 - accuracy: 0.8100\n",
      "Epoch 117: saving model to model/keypoint_classifier\\keypoint_classifier.hdf5\n",
      "29/29 [==============================] - 0s 8ms/step - loss: 0.5020 - accuracy: 0.8070 - val_loss: 0.1970 - val_accuracy: 0.9716\n",
      "Epoch 118/1000\n",
      "25/29 [========================>.....] - ETA: 0s - loss: 0.5052 - accuracy: 0.8081\n",
      "Epoch 118: saving model to model/keypoint_classifier\\keypoint_classifier.hdf5\n",
      "29/29 [==============================] - 0s 7ms/step - loss: 0.5013 - accuracy: 0.8095 - val_loss: 0.2049 - val_accuracy: 0.9733\n",
      "Epoch 119/1000\n",
      "29/29 [==============================] - ETA: 0s - loss: 0.5036 - accuracy: 0.8042\n",
      "Epoch 119: saving model to model/keypoint_classifier\\keypoint_classifier.hdf5\n",
      "29/29 [==============================] - 0s 9ms/step - loss: 0.5036 - accuracy: 0.8042 - val_loss: 0.1979 - val_accuracy: 0.9808\n",
      "Epoch 120/1000\n",
      "25/29 [========================>.....] - ETA: 0s - loss: 0.5149 - accuracy: 0.8047\n",
      "Epoch 120: saving model to model/keypoint_classifier\\keypoint_classifier.hdf5\n",
      "29/29 [==============================] - 0s 7ms/step - loss: 0.5134 - accuracy: 0.8045 - val_loss: 0.1952 - val_accuracy: 0.9791\n",
      "Epoch 121/1000\n",
      "23/29 [======================>.......] - ETA: 0s - loss: 0.5042 - accuracy: 0.8091\n",
      "Epoch 121: saving model to model/keypoint_classifier\\keypoint_classifier.hdf5\n",
      "29/29 [==============================] - 0s 8ms/step - loss: 0.5042 - accuracy: 0.8078 - val_loss: 0.1963 - val_accuracy: 0.9749\n",
      "Epoch 122/1000\n",
      "22/29 [=====================>........] - ETA: 0s - loss: 0.5127 - accuracy: 0.8033\n",
      "Epoch 122: saving model to model/keypoint_classifier\\keypoint_classifier.hdf5\n",
      "29/29 [==============================] - 0s 8ms/step - loss: 0.5057 - accuracy: 0.8019 - val_loss: 0.1983 - val_accuracy: 0.9716\n",
      "Epoch 123/1000\n",
      "24/29 [=======================>......] - ETA: 0s - loss: 0.5043 - accuracy: 0.8096\n",
      "Epoch 123: saving model to model/keypoint_classifier\\keypoint_classifier.hdf5\n",
      "29/29 [==============================] - 0s 8ms/step - loss: 0.5020 - accuracy: 0.8089 - val_loss: 0.2009 - val_accuracy: 0.9741\n",
      "Epoch 124/1000\n",
      "25/29 [========================>.....] - ETA: 0s - loss: 0.5051 - accuracy: 0.8000\n",
      "Epoch 124: saving model to model/keypoint_classifier\\keypoint_classifier.hdf5\n",
      "29/29 [==============================] - 0s 7ms/step - loss: 0.5013 - accuracy: 0.8050 - val_loss: 0.1937 - val_accuracy: 0.9783\n",
      "Epoch 125/1000\n",
      "25/29 [========================>.....] - ETA: 0s - loss: 0.5007 - accuracy: 0.8059\n",
      "Epoch 125: saving model to model/keypoint_classifier\\keypoint_classifier.hdf5\n",
      "29/29 [==============================] - 0s 8ms/step - loss: 0.4984 - accuracy: 0.8095 - val_loss: 0.1934 - val_accuracy: 0.9783\n",
      "Epoch 126/1000\n",
      "24/29 [=======================>......] - ETA: 0s - loss: 0.4999 - accuracy: 0.8148\n",
      "Epoch 126: saving model to model/keypoint_classifier\\keypoint_classifier.hdf5\n",
      "29/29 [==============================] - 0s 8ms/step - loss: 0.4916 - accuracy: 0.8156 - val_loss: 0.1930 - val_accuracy: 0.9774\n",
      "Epoch 127/1000\n",
      "23/29 [======================>.......] - ETA: 0s - loss: 0.4734 - accuracy: 0.8261\n",
      "Epoch 127: saving model to model/keypoint_classifier\\keypoint_classifier.hdf5\n",
      "29/29 [==============================] - 0s 8ms/step - loss: 0.4827 - accuracy: 0.8201 - val_loss: 0.1897 - val_accuracy: 0.9749\n",
      "Epoch 128/1000\n",
      "24/29 [=======================>......] - ETA: 0s - loss: 0.5053 - accuracy: 0.8105\n",
      "Epoch 128: saving model to model/keypoint_classifier\\keypoint_classifier.hdf5\n",
      "29/29 [==============================] - 0s 7ms/step - loss: 0.5004 - accuracy: 0.8103 - val_loss: 0.1935 - val_accuracy: 0.9749\n",
      "Epoch 129/1000\n",
      "28/29 [===========================>..] - ETA: 0s - loss: 0.4968 - accuracy: 0.8094\n",
      "Epoch 129: saving model to model/keypoint_classifier\\keypoint_classifier.hdf5\n",
      "29/29 [==============================] - 0s 7ms/step - loss: 0.4966 - accuracy: 0.8095 - val_loss: 0.1934 - val_accuracy: 0.9749\n",
      "Epoch 130/1000\n",
      "24/29 [=======================>......] - ETA: 0s - loss: 0.4937 - accuracy: 0.8099\n",
      "Epoch 130: saving model to model/keypoint_classifier\\keypoint_classifier.hdf5\n",
      "29/29 [==============================] - 0s 7ms/step - loss: 0.4956 - accuracy: 0.8075 - val_loss: 0.1904 - val_accuracy: 0.9716\n",
      "Epoch 131/1000\n",
      "26/29 [=========================>....] - ETA: 0s - loss: 0.4973 - accuracy: 0.8113\n",
      "Epoch 131: saving model to model/keypoint_classifier\\keypoint_classifier.hdf5\n",
      "29/29 [==============================] - 0s 7ms/step - loss: 0.4970 - accuracy: 0.8109 - val_loss: 0.1869 - val_accuracy: 0.9749\n",
      "Epoch 132/1000\n",
      "26/29 [=========================>....] - ETA: 0s - loss: 0.4782 - accuracy: 0.8092\n",
      "Epoch 132: saving model to model/keypoint_classifier\\keypoint_classifier.hdf5\n",
      "29/29 [==============================] - 0s 7ms/step - loss: 0.4846 - accuracy: 0.8084 - val_loss: 0.1857 - val_accuracy: 0.9783\n",
      "Epoch 133/1000\n",
      "24/29 [=======================>......] - ETA: 0s - loss: 0.4716 - accuracy: 0.8229\n",
      "Epoch 133: saving model to model/keypoint_classifier\\keypoint_classifier.hdf5\n",
      "29/29 [==============================] - 0s 7ms/step - loss: 0.4768 - accuracy: 0.8217 - val_loss: 0.1875 - val_accuracy: 0.9749\n",
      "Epoch 134/1000\n",
      "26/29 [=========================>....] - ETA: 0s - loss: 0.4748 - accuracy: 0.8164\n",
      "Epoch 134: saving model to model/keypoint_classifier\\keypoint_classifier.hdf5\n",
      "29/29 [==============================] - 0s 7ms/step - loss: 0.4720 - accuracy: 0.8167 - val_loss: 0.1828 - val_accuracy: 0.9783\n",
      "Epoch 135/1000\n",
      "26/29 [=========================>....] - ETA: 0s - loss: 0.4876 - accuracy: 0.8128\n",
      "Epoch 135: saving model to model/keypoint_classifier\\keypoint_classifier.hdf5\n",
      "29/29 [==============================] - 0s 7ms/step - loss: 0.4891 - accuracy: 0.8128 - val_loss: 0.1866 - val_accuracy: 0.9774\n",
      "Epoch 136/1000\n",
      "27/29 [==========================>...] - ETA: 0s - loss: 0.4921 - accuracy: 0.8035\n",
      "Epoch 136: saving model to model/keypoint_classifier\\keypoint_classifier.hdf5\n",
      "29/29 [==============================] - 0s 7ms/step - loss: 0.4900 - accuracy: 0.8045 - val_loss: 0.1882 - val_accuracy: 0.9741\n",
      "Epoch 137/1000\n",
      "24/29 [=======================>......] - ETA: 0s - loss: 0.4764 - accuracy: 0.8249\n",
      "Epoch 137: saving model to model/keypoint_classifier\\keypoint_classifier.hdf5\n",
      "29/29 [==============================] - 0s 7ms/step - loss: 0.4671 - accuracy: 0.8276 - val_loss: 0.1898 - val_accuracy: 0.9724\n",
      "Epoch 138/1000\n",
      "24/29 [=======================>......] - ETA: 0s - loss: 0.4872 - accuracy: 0.8118\n",
      "Epoch 138: saving model to model/keypoint_classifier\\keypoint_classifier.hdf5\n",
      "29/29 [==============================] - 0s 8ms/step - loss: 0.4824 - accuracy: 0.8148 - val_loss: 0.1850 - val_accuracy: 0.9758\n",
      "Epoch 139/1000\n",
      "25/29 [========================>.....] - ETA: 0s - loss: 0.4922 - accuracy: 0.8066\n",
      "Epoch 139: saving model to model/keypoint_classifier\\keypoint_classifier.hdf5\n",
      "29/29 [==============================] - 0s 7ms/step - loss: 0.4852 - accuracy: 0.8097 - val_loss: 0.1956 - val_accuracy: 0.9724\n",
      "Epoch 140/1000\n",
      "26/29 [=========================>....] - ETA: 0s - loss: 0.4950 - accuracy: 0.8119\n",
      "Epoch 140: saving model to model/keypoint_classifier\\keypoint_classifier.hdf5\n",
      "29/29 [==============================] - 0s 7ms/step - loss: 0.4950 - accuracy: 0.8111 - val_loss: 0.1976 - val_accuracy: 0.9708\n",
      "Epoch 141/1000\n",
      "24/29 [=======================>......] - ETA: 0s - loss: 0.4796 - accuracy: 0.8141\n",
      "Epoch 141: saving model to model/keypoint_classifier\\keypoint_classifier.hdf5\n",
      "29/29 [==============================] - 0s 7ms/step - loss: 0.4795 - accuracy: 0.8164 - val_loss: 0.1875 - val_accuracy: 0.9758\n",
      "Epoch 142/1000\n",
      "26/29 [=========================>....] - ETA: 0s - loss: 0.5027 - accuracy: 0.8119\n",
      "Epoch 142: saving model to model/keypoint_classifier\\keypoint_classifier.hdf5\n",
      "29/29 [==============================] - 0s 7ms/step - loss: 0.5010 - accuracy: 0.8100 - val_loss: 0.1905 - val_accuracy: 0.9733\n",
      "Epoch 143/1000\n",
      "27/29 [==========================>...] - ETA: 0s - loss: 0.4753 - accuracy: 0.8189\n",
      "Epoch 143: saving model to model/keypoint_classifier\\keypoint_classifier.hdf5\n",
      "29/29 [==============================] - 0s 7ms/step - loss: 0.4746 - accuracy: 0.8198 - val_loss: 0.1885 - val_accuracy: 0.9741\n",
      "Epoch 144/1000\n",
      "24/29 [=======================>......] - ETA: 0s - loss: 0.4784 - accuracy: 0.8210\n",
      "Epoch 144: saving model to model/keypoint_classifier\\keypoint_classifier.hdf5\n",
      "29/29 [==============================] - 0s 7ms/step - loss: 0.4904 - accuracy: 0.8142 - val_loss: 0.1950 - val_accuracy: 0.9733\n",
      "Epoch 145/1000\n",
      "27/29 [==========================>...] - ETA: 0s - loss: 0.4767 - accuracy: 0.8134\n",
      "Epoch 145: saving model to model/keypoint_classifier\\keypoint_classifier.hdf5\n",
      "29/29 [==============================] - 0s 7ms/step - loss: 0.4797 - accuracy: 0.8142 - val_loss: 0.1948 - val_accuracy: 0.9724\n",
      "Epoch 146/1000\n",
      "26/29 [=========================>....] - ETA: 0s - loss: 0.4642 - accuracy: 0.8212\n",
      "Epoch 146: saving model to model/keypoint_classifier\\keypoint_classifier.hdf5\n",
      "29/29 [==============================] - 0s 7ms/step - loss: 0.4611 - accuracy: 0.8237 - val_loss: 0.1827 - val_accuracy: 0.9733\n",
      "Epoch 147/1000\n",
      "25/29 [========================>.....] - ETA: 0s - loss: 0.4674 - accuracy: 0.8216\n",
      "Epoch 147: saving model to model/keypoint_classifier\\keypoint_classifier.hdf5\n",
      "29/29 [==============================] - 0s 7ms/step - loss: 0.4704 - accuracy: 0.8209 - val_loss: 0.1787 - val_accuracy: 0.9774\n",
      "Epoch 148/1000\n",
      "25/29 [========================>.....] - ETA: 0s - loss: 0.4982 - accuracy: 0.8112\n",
      "Epoch 148: saving model to model/keypoint_classifier\\keypoint_classifier.hdf5\n",
      "29/29 [==============================] - 0s 7ms/step - loss: 0.4949 - accuracy: 0.8117 - val_loss: 0.1798 - val_accuracy: 0.9783\n",
      "Epoch 149/1000\n",
      "22/29 [=====================>........] - ETA: 0s - loss: 0.4687 - accuracy: 0.8139\n",
      "Epoch 149: saving model to model/keypoint_classifier\\keypoint_classifier.hdf5\n",
      "29/29 [==============================] - 0s 8ms/step - loss: 0.4658 - accuracy: 0.8187 - val_loss: 0.1826 - val_accuracy: 0.9783\n",
      "Epoch 150/1000\n",
      "25/29 [========================>.....] - ETA: 0s - loss: 0.4977 - accuracy: 0.8056\n",
      "Epoch 150: saving model to model/keypoint_classifier\\keypoint_classifier.hdf5\n",
      "29/29 [==============================] - 0s 7ms/step - loss: 0.4978 - accuracy: 0.8061 - val_loss: 0.1906 - val_accuracy: 0.9783\n",
      "Epoch 151/1000\n",
      "26/29 [=========================>....] - ETA: 0s - loss: 0.4796 - accuracy: 0.8191\n",
      "Epoch 151: saving model to model/keypoint_classifier\\keypoint_classifier.hdf5\n",
      "29/29 [==============================] - 0s 7ms/step - loss: 0.4791 - accuracy: 0.8187 - val_loss: 0.1849 - val_accuracy: 0.9791\n",
      "Epoch 152/1000\n",
      "26/29 [=========================>....] - ETA: 0s - loss: 0.4881 - accuracy: 0.8143\n",
      "Epoch 152: saving model to model/keypoint_classifier\\keypoint_classifier.hdf5\n",
      "29/29 [==============================] - 0s 7ms/step - loss: 0.4852 - accuracy: 0.8142 - val_loss: 0.1850 - val_accuracy: 0.9749\n",
      "Epoch 153/1000\n",
      "26/29 [=========================>....] - ETA: 0s - loss: 0.4819 - accuracy: 0.8140\n",
      "Epoch 153: saving model to model/keypoint_classifier\\keypoint_classifier.hdf5\n",
      "29/29 [==============================] - 0s 7ms/step - loss: 0.4805 - accuracy: 0.8150 - val_loss: 0.1837 - val_accuracy: 0.9783\n",
      "Epoch 154/1000\n",
      "25/29 [========================>.....] - ETA: 0s - loss: 0.4625 - accuracy: 0.8188\n",
      "Epoch 154: saving model to model/keypoint_classifier\\keypoint_classifier.hdf5\n",
      "29/29 [==============================] - 0s 7ms/step - loss: 0.4658 - accuracy: 0.8178 - val_loss: 0.1815 - val_accuracy: 0.9758\n",
      "Epoch 155/1000\n",
      "24/29 [=======================>......] - ETA: 0s - loss: 0.4684 - accuracy: 0.8200\n",
      "Epoch 155: saving model to model/keypoint_classifier\\keypoint_classifier.hdf5\n",
      "29/29 [==============================] - 0s 7ms/step - loss: 0.4712 - accuracy: 0.8192 - val_loss: 0.1903 - val_accuracy: 0.9766\n",
      "Epoch 156/1000\n",
      "24/29 [=======================>......] - ETA: 0s - loss: 0.4654 - accuracy: 0.8249\n",
      "Epoch 156: saving model to model/keypoint_classifier\\keypoint_classifier.hdf5\n",
      "29/29 [==============================] - 0s 7ms/step - loss: 0.4657 - accuracy: 0.8234 - val_loss: 0.1883 - val_accuracy: 0.9758\n",
      "Epoch 157/1000\n",
      "26/29 [=========================>....] - ETA: 0s - loss: 0.4545 - accuracy: 0.8248\n",
      "Epoch 157: saving model to model/keypoint_classifier\\keypoint_classifier.hdf5\n",
      "29/29 [==============================] - 0s 7ms/step - loss: 0.4551 - accuracy: 0.8256 - val_loss: 0.1788 - val_accuracy: 0.9758\n",
      "Epoch 158/1000\n",
      "23/29 [======================>.......] - ETA: 0s - loss: 0.4793 - accuracy: 0.8193\n",
      "Epoch 158: saving model to model/keypoint_classifier\\keypoint_classifier.hdf5\n",
      "29/29 [==============================] - 0s 7ms/step - loss: 0.4771 - accuracy: 0.8201 - val_loss: 0.1884 - val_accuracy: 0.9758\n",
      "Epoch 159/1000\n",
      "19/29 [==================>...........] - ETA: 0s - loss: 0.4598 - accuracy: 0.8294\n",
      "Epoch 159: saving model to model/keypoint_classifier\\keypoint_classifier.hdf5\n",
      "29/29 [==============================] - 0s 8ms/step - loss: 0.4593 - accuracy: 0.8256 - val_loss: 0.1789 - val_accuracy: 0.9774\n",
      "Epoch 160/1000\n",
      "27/29 [==========================>...] - ETA: 0s - loss: 0.4686 - accuracy: 0.8249\n",
      "Epoch 160: saving model to model/keypoint_classifier\\keypoint_classifier.hdf5\n",
      "29/29 [==============================] - 0s 8ms/step - loss: 0.4694 - accuracy: 0.8240 - val_loss: 0.1815 - val_accuracy: 0.9783\n",
      "Epoch 161/1000\n",
      "25/29 [========================>.....] - ETA: 0s - loss: 0.4561 - accuracy: 0.8259\n",
      "Epoch 161: saving model to model/keypoint_classifier\\keypoint_classifier.hdf5\n",
      "29/29 [==============================] - 0s 7ms/step - loss: 0.4531 - accuracy: 0.8256 - val_loss: 0.1806 - val_accuracy: 0.9766\n",
      "Epoch 162/1000\n",
      "25/29 [========================>.....] - ETA: 0s - loss: 0.4731 - accuracy: 0.8116\n",
      "Epoch 162: saving model to model/keypoint_classifier\\keypoint_classifier.hdf5\n",
      "29/29 [==============================] - 0s 7ms/step - loss: 0.4644 - accuracy: 0.8148 - val_loss: 0.1809 - val_accuracy: 0.9724\n",
      "Epoch 163/1000\n",
      "26/29 [=========================>....] - ETA: 0s - loss: 0.4647 - accuracy: 0.8293\n",
      "Epoch 163: saving model to model/keypoint_classifier\\keypoint_classifier.hdf5\n",
      "29/29 [==============================] - 0s 7ms/step - loss: 0.4686 - accuracy: 0.8276 - val_loss: 0.1926 - val_accuracy: 0.9632\n",
      "Epoch 164/1000\n",
      "24/29 [=======================>......] - ETA: 0s - loss: 0.4765 - accuracy: 0.8174\n",
      "Epoch 164: saving model to model/keypoint_classifier\\keypoint_classifier.hdf5\n",
      "29/29 [==============================] - 0s 7ms/step - loss: 0.4792 - accuracy: 0.8209 - val_loss: 0.1897 - val_accuracy: 0.9733\n",
      "Epoch 165/1000\n",
      "25/29 [========================>.....] - ETA: 0s - loss: 0.4680 - accuracy: 0.8253\n",
      "Epoch 165: saving model to model/keypoint_classifier\\keypoint_classifier.hdf5\n",
      "29/29 [==============================] - 0s 7ms/step - loss: 0.4663 - accuracy: 0.8267 - val_loss: 0.1833 - val_accuracy: 0.9783\n",
      "Epoch 166/1000\n",
      "22/29 [=====================>........] - ETA: 0s - loss: 0.4788 - accuracy: 0.8256\n",
      "Epoch 166: saving model to model/keypoint_classifier\\keypoint_classifier.hdf5\n",
      "29/29 [==============================] - 0s 8ms/step - loss: 0.4734 - accuracy: 0.8256 - val_loss: 0.1904 - val_accuracy: 0.9716\n",
      "Epoch 167/1000\n",
      "25/29 [========================>.....] - ETA: 0s - loss: 0.4788 - accuracy: 0.8163\n",
      "Epoch 167: saving model to model/keypoint_classifier\\keypoint_classifier.hdf5\n",
      "29/29 [==============================] - 0s 7ms/step - loss: 0.4814 - accuracy: 0.8148 - val_loss: 0.1835 - val_accuracy: 0.9766\n",
      "Epoch 167: early stopping\n"
     ]
    },
    {
     "data": {
      "text/plain": [
       "<keras.callbacks.History at 0x2462875dac0>"
      ]
     },
     "execution_count": 12,
     "metadata": {},
     "output_type": "execute_result"
    }
   ],
   "source": [
    "model.fit(\n",
    "    X_train,    #训练数据集的输入特征。\n",
    "    y_train,    #训练数据集的标签。\n",
    "    epochs=1000,    #迭代次数。\n",
    "    batch_size=128, #每个 batch 中的样本数\n",
    "    validation_data=(X_test, y_test),   #验证集数据\n",
    "    callbacks=[cp_callback, es_callback]\n",
    ")"
   ]
  },
  {
   "cell_type": "code",
   "execution_count": 13,
   "metadata": {
    "colab": {
     "base_uri": "https://localhost:8080/"
    },
    "id": "pxvb2Y299hE3",
    "outputId": "59eb3185-2e37-4b9e-bc9d-ab1b8ac29b7f"
   },
   "outputs": [
    {
     "name": "stdout",
     "output_type": "stream",
     "text": [
      "10/10 [==============================] - 0s 4ms/step - loss: 0.1835 - accuracy: 0.9766\n"
     ]
    }
   ],
   "source": [
    "# 评估模型\n",
    "val_loss, val_acc = model.evaluate(X_test, y_test, batch_size=128)"
   ]
  },
  {
   "cell_type": "code",
   "execution_count": 14,
   "metadata": {
    "id": "RBkmDeUW9hE4"
   },
   "outputs": [],
   "source": [
    "# 保存模型\n",
    "model = tf.keras.models.load_model(model_save_path)"
   ]
  },
  {
   "cell_type": "code",
   "execution_count": 15,
   "metadata": {
    "colab": {
     "base_uri": "https://localhost:8080/"
    },
    "id": "tFz9Tb0I9hE4",
    "outputId": "1c3b3528-54ae-4ee2-ab04-77429211cbef"
   },
   "outputs": [
    {
     "name": "stdout",
     "output_type": "stream",
     "text": [
      "1/1 [==============================] - 0s 104ms/step\n",
      "[9.7560388e-01 2.4133213e-02 5.2368523e-05 2.1054619e-04]\n",
      "0\n"
     ]
    }
   ],
   "source": [
    "# Inference test\n",
    "predict_result = model.predict(np.array([X_test[0]]))\n",
    "print(np.squeeze(predict_result))\n",
    "print(np.argmax(np.squeeze(predict_result)))"
   ]
  },
  {
   "attachments": {},
   "cell_type": "markdown",
   "metadata": {
    "id": "S3U4yNWx9hE4"
   },
   "source": [
    "# Confusion matrix（混淆矩阵）"
   ]
  },
  {
   "cell_type": "code",
   "execution_count": 16,
   "metadata": {
    "colab": {
     "base_uri": "https://localhost:8080/",
     "height": 582
    },
    "id": "AP1V6SCk9hE5",
    "outputId": "08e41a80-7a4a-4619-8125-ecc371368d19"
   },
   "outputs": [
    {
     "name": "stdout",
     "output_type": "stream",
     "text": [
      "38/38 [==============================] - 0s 2ms/step\n"
     ]
    },
    {
     "data": {
      "image/png": "[encoded data removed]",
      "text/plain": [
       "<Figure size 700x600 with 2 Axes>"
      ]
     },
     "metadata": {},
     "output_type": "display_data"
    },
    {
     "name": "stdout",
     "output_type": "stream",
     "text": [
      "Classification Report\n",
      "              precision    recall  f1-score   support\n",
      "\n",
      "           0       0.99      0.98      0.98       402\n",
      "           1       0.98      0.97      0.97       366\n",
      "           2       0.97      0.98      0.97       343\n",
      "           3       0.94      0.99      0.97        86\n",
      "\n",
      "    accuracy                           0.98      1197\n",
      "   macro avg       0.97      0.98      0.97      1197\n",
      "weighted avg       0.98      0.98      0.98      1197\n",
      "\n"
     ]
    }
   ],
   "source": [
    "import pandas as pd\n",
    "import seaborn as sns\n",
    "import matplotlib.pyplot as plt\n",
    "from sklearn.metrics import confusion_matrix, classification_report\n",
    "\n",
    "def print_confusion_matrix(y_true, y_pred, report=True):\n",
    "    labels = sorted(list(set(y_true)))\n",
    "    cmx_data = confusion_matrix(y_true, y_pred, labels=labels)\n",
    "    \n",
    "    df_cmx = pd.DataFrame(cmx_data, index=labels, columns=labels)\n",
    " \n",
    "    fig, ax = plt.subplots(figsize=(7, 6))\n",
    "    sns.heatmap(df_cmx, annot=True, fmt='g' ,square=False)\n",
    "    ax.set_ylim(len(set(y_true)), 0)\n",
    "    plt.show()\n",
    "    \n",
    "    if report:\n",
    "        print('Classification Report')\n",
    "        print(classification_report(y_test, y_pred))\n",
    "\n",
    "Y_pred = model.predict(X_test)\n",
    "y_pred = np.argmax(Y_pred, axis=1)\n",
    "\n",
    "print_confusion_matrix(y_test, y_pred)"
   ]
  },
  {
   "attachments": {},
   "cell_type": "markdown",
   "metadata": {
    "id": "FNP6aqzc9hE5"
   },
   "source": [
    "# Convert to model for Tensorflow-Lite"
   ]
  },
  {
   "cell_type": "code",
   "execution_count": 17,
   "metadata": {
    "id": "ODjnYyld9hE6"
   },
   "outputs": [],
   "source": [
    "# 将训练好的模型保存为一个可供后续推理使用的模型\n",
    "model.save(model_save_path, include_optimizer=False)"
   ]
  },
  {
   "cell_type": "code",
   "execution_count": 18,
   "metadata": {
    "colab": {
     "base_uri": "https://localhost:8080/"
    },
    "id": "zRfuK8Y59hE6",
    "outputId": "a4ca585c-b5d5-4244-8291-8674063209bb"
   },
   "outputs": [
    {
     "name": "stdout",
     "output_type": "stream",
     "text": [
      "INFO:tensorflow:Assets written to: C:\\Users\\ADMINI~1\\AppData\\Local\\Temp\\tmp_t3klc6d\\assets\n"
     ]
    },
    {
     "data": {
      "text/plain": [
       "6544"
      ]
     },
     "execution_count": 18,
     "metadata": {},
     "output_type": "execute_result"
    }
   ],
   "source": [
    "# 量化模型\n",
    "\n",
    "converter = tf.lite.TFLiteConverter.from_keras_model(model)\n",
    "converter.optimizations = [tf.lite.Optimize.DEFAULT]\n",
    "tflite_quantized_model = converter.convert()\n",
    "\n",
    "open(tflite_save_path, 'wb').write(tflite_quantized_model)"
   ]
  },
  {
   "attachments": {},
   "cell_type": "markdown",
   "metadata": {
    "id": "CHBPBXdx9hE6"
   },
   "source": [
    "# Inference test（推断测试）"
   ]
  },
  {
   "cell_type": "code",
   "execution_count": 18,
   "metadata": {
    "id": "mGAzLocO9hE7"
   },
   "outputs": [],
   "source": [
    "# interpreter = tf.lite.Interpreter(model_path=tflite_save_path)\n",
    "# interpreter.allocate_tensors()"
   ]
  },
  {
   "cell_type": "code",
   "execution_count": 19,
   "metadata": {
    "id": "oQuDK8YS9hE7"
   },
   "outputs": [],
   "source": [
    "# # Get I / O tensor\n",
    "# input_details = interpreter.get_input_details()\n",
    "# output_details = interpreter.get_output_details()"
   ]
  },
  {
   "cell_type": "code",
   "execution_count": 20,
   "metadata": {
    "id": "2_ixAf_l9hE7"
   },
   "outputs": [],
   "source": [
    "# interpreter.set_tensor(input_details[0]['index'], np.array([X_test[0]]))"
   ]
  },
  {
   "cell_type": "code",
   "execution_count": 21,
   "metadata": {
    "colab": {
     "base_uri": "https://localhost:8080/"
    },
    "id": "s4FoAnuc9hE7",
    "outputId": "91f18257-8d8b-4ef3-c558-e9b5f94fabbf",
    "scrolled": true
   },
   "outputs": [],
   "source": [
    "# %%time\n",
    "# # Inference implementation\n",
    "# interpreter.invoke()\n",
    "# tflite_results = interpreter.get_tensor(output_details[0]['index'])"
   ]
  },
  {
   "cell_type": "code",
   "execution_count": 22,
   "metadata": {
    "colab": {
     "base_uri": "https://localhost:8080/"
    },
    "id": "vONjp19J9hE8",
    "outputId": "77205e24-fd00-42c4-f7b6-e06e527c2cba"
   },
   "outputs": [],
   "source": [
    "# print(np.squeeze(tflite_results))\n",
    "# print(np.argmax(np.squeeze(tflite_results)))"
   ]
  }
 ],
 "metadata": {
  "accelerator": "GPU",
  "colab": {
   "collapsed_sections": [],
   "name": "keypoint_classification_EN.ipynb",
   "provenance": [],
   "toc_visible": true
  },
  "kernelspec": {
   "display_name": "Python 3 (ipykernel)",
   "language": "python",
   "name": "python3"
  },
  "language_info": {
   "codemirror_mode": {
    "name": "ipython",
    "version": 3
   },
   "file_extension": ".py",
   "mimetype": "text/x-python",
   "name": "python",
   "nbconvert_exporter": "python",
   "pygments_lexer": "ipython3",
   "version": "3.9.16"
  }
 },
 "nbformat": 4,
 "nbformat_minor": 1
}
